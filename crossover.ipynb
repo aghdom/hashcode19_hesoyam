{
 "cells": [
  {
   "cell_type": "code",
   "execution_count": 1,
   "metadata": {},
   "outputs": [],
   "source": [
    "slides1 = [[1, 0], [2, 4], [3, 5], [9], [10], [8, 11]]\n",
    "slides2 = [[9], [10], [3, 5], [8, 11], [1, 0], [2, 4], [14, 15], [13]]"
   ]
  },
  {
   "cell_type": "code",
   "execution_count": 39,
   "metadata": {},
   "outputs": [],
   "source": [
    "import random\n",
    "\n",
    "def deduplicate(slides):\n",
    "    used_images = set([])\n",
    "    new_slides = []\n",
    "    \n",
    "    for slide in slides:\n",
    "        has_two_slides = len(slide) == 2\n",
    "        is_not_duplicate = (slide[1] not in used_images) and (has_two_slides or (slide[2] in used_images))\n",
    "            \n",
    "        if is_not_duplicate:\n",
    "            new_slides.append(slide)\n",
    "            \n",
    "            # if slide[1]:\n",
    "            used_images.add(slide[1])\n",
    "            if has_two_slides:\n",
    "                used_images.add(slide[2])\n",
    "    \n",
    "    return new_slides\n",
    "\n",
    "def crossover(parent_1, parent_2):\n",
    "    len_1 = len(parent_1)\n",
    "    len_2 = len(parent_2)\n",
    "    \n",
    "    index = random.randrange(1, min(len_2, len_1))\n",
    "    child_1 = parent_1[:index] + parent_2[index:]\n",
    "    child_2 = parent_2[:index] + parent_1[index:]\n",
    "    \n",
    "    return deduplicate(child_1), deduplicate(child_2)"
   ]
  },
  {
   "cell_type": "code",
   "execution_count": 40,
   "metadata": {},
   "outputs": [
    {
     "ename": "IndexError",
     "evalue": "list index out of range",
     "output_type": "error",
     "traceback": [
      "\u001b[0;31m---------------------------------------------------------------------------\u001b[0m",
      "\u001b[0;31mIndexError\u001b[0m                                Traceback (most recent call last)",
      "\u001b[0;32m<ipython-input-40-a13a4ef275f7>\u001b[0m in \u001b[0;36m<module>\u001b[0;34m\u001b[0m\n\u001b[0;32m----> 1\u001b[0;31m \u001b[0mcrossover\u001b[0m\u001b[0;34m(\u001b[0m\u001b[0mslides1\u001b[0m\u001b[0;34m,\u001b[0m \u001b[0mslides2\u001b[0m\u001b[0;34m)\u001b[0m\u001b[0;34m\u001b[0m\u001b[0;34m\u001b[0m\u001b[0m\n\u001b[0m",
      "\u001b[0;32m<ipython-input-39-a2fcf500b3b5>\u001b[0m in \u001b[0;36mcrossover\u001b[0;34m(parent_1, parent_2)\u001b[0m\n\u001b[1;32m     27\u001b[0m     \u001b[0mchild_2\u001b[0m \u001b[0;34m=\u001b[0m \u001b[0mparent_2\u001b[0m\u001b[0;34m[\u001b[0m\u001b[0;34m:\u001b[0m\u001b[0mindex\u001b[0m\u001b[0;34m]\u001b[0m \u001b[0;34m+\u001b[0m \u001b[0mparent_1\u001b[0m\u001b[0;34m[\u001b[0m\u001b[0mindex\u001b[0m\u001b[0;34m:\u001b[0m\u001b[0;34m]\u001b[0m\u001b[0;34m\u001b[0m\u001b[0;34m\u001b[0m\u001b[0m\n\u001b[1;32m     28\u001b[0m \u001b[0;34m\u001b[0m\u001b[0m\n\u001b[0;32m---> 29\u001b[0;31m     \u001b[0;32mreturn\u001b[0m \u001b[0mdeduplicate\u001b[0m\u001b[0;34m(\u001b[0m\u001b[0mchild_1\u001b[0m\u001b[0;34m)\u001b[0m\u001b[0;34m,\u001b[0m \u001b[0mdeduplicate\u001b[0m\u001b[0;34m(\u001b[0m\u001b[0mchild_2\u001b[0m\u001b[0;34m)\u001b[0m\u001b[0;34m\u001b[0m\u001b[0;34m\u001b[0m\u001b[0m\n\u001b[0m",
      "\u001b[0;32m<ipython-input-39-a2fcf500b3b5>\u001b[0m in \u001b[0;36mdeduplicate\u001b[0;34m(slides)\u001b[0m\n\u001b[1;32m     15\u001b[0m             \u001b[0mused_images\u001b[0m\u001b[0;34m.\u001b[0m\u001b[0madd\u001b[0m\u001b[0;34m(\u001b[0m\u001b[0mslide\u001b[0m\u001b[0;34m[\u001b[0m\u001b[0;36m1\u001b[0m\u001b[0;34m]\u001b[0m\u001b[0;34m)\u001b[0m\u001b[0;34m\u001b[0m\u001b[0;34m\u001b[0m\u001b[0m\n\u001b[1;32m     16\u001b[0m             \u001b[0;32mif\u001b[0m \u001b[0mhas_two_slides\u001b[0m\u001b[0;34m:\u001b[0m\u001b[0;34m\u001b[0m\u001b[0;34m\u001b[0m\u001b[0m\n\u001b[0;32m---> 17\u001b[0;31m                 \u001b[0mused_images\u001b[0m\u001b[0;34m.\u001b[0m\u001b[0madd\u001b[0m\u001b[0;34m(\u001b[0m\u001b[0mslide\u001b[0m\u001b[0;34m[\u001b[0m\u001b[0;36m2\u001b[0m\u001b[0;34m]\u001b[0m\u001b[0;34m)\u001b[0m\u001b[0;34m\u001b[0m\u001b[0;34m\u001b[0m\u001b[0m\n\u001b[0m\u001b[1;32m     18\u001b[0m \u001b[0;34m\u001b[0m\u001b[0m\n\u001b[1;32m     19\u001b[0m     \u001b[0;32mreturn\u001b[0m \u001b[0mnew_slides\u001b[0m\u001b[0;34m\u001b[0m\u001b[0;34m\u001b[0m\u001b[0m\n",
      "\u001b[0;31mIndexError\u001b[0m: list index out of range"
     ]
    }
   ],
   "source": [
    "crossover(slides1, slides2)"
   ]
  },
  {
   "cell_type": "code",
   "execution_count": 29,
   "metadata": {},
   "outputs": [
    {
     "data": {
      "text/plain": [
       "False"
      ]
     },
     "execution_count": 29,
     "metadata": {},
     "output_type": "execute_result"
    }
   ],
   "source": [
    "1 not in {1}"
   ]
  }
 ],
 "metadata": {
  "kernelspec": {
   "display_name": "Python 3",
   "language": "python",
   "name": "python3"
  },
  "language_info": {
   "codemirror_mode": {
    "name": "ipython",
    "version": 3
   },
   "file_extension": ".py",
   "mimetype": "text/x-python",
   "name": "python",
   "nbconvert_exporter": "python",
   "pygments_lexer": "ipython3",
   "version": "3.7.1"
  }
 },
 "nbformat": 4,
 "nbformat_minor": 2
}
