{
 "cells": [
  {
   "cell_type": "code",
   "execution_count": 88,
   "metadata": {},
   "outputs": [],
   "source": [
    "import random\n",
    "\n",
    "def mutate(slides):\n",
    "    def is_possible(percentage):\n",
    "        return random.randint(0, 100) <= percentage\n",
    "    \n",
    "    # mutate by swapping two genes\n",
    "    if (is_possible(50)):\n",
    "        r = len(slides) - 1\n",
    "        x = random.randint(0, r)\n",
    "        y = random.randint(0, r)\n",
    "        if x != y:\n",
    "            c = slides[x].copy()\n",
    "            slides[x] = slides[y].copy()\n",
    "            slides[y] = c\n",
    "            \n",
    "    # pridanie noveho slajdu???\n",
    "        \n",
    "    return slides"
   ]
  },
  {
   "cell_type": "code",
   "execution_count": 89,
   "metadata": {},
   "outputs": [],
   "source": [
    "slides1 = [[1, 0], [2, 4], [3, 5], [9], [10], [8, 11]]"
   ]
  },
  {
   "cell_type": "code",
   "execution_count": 90,
   "metadata": {},
   "outputs": [
    {
     "data": {
      "text/plain": [
       "[[1, 0], [3, 5], [2, 4], [9], [10], [8, 11]]"
      ]
     },
     "execution_count": 90,
     "metadata": {},
     "output_type": "execute_result"
    }
   ],
   "source": [
    "mutate(slides1)"
   ]
  },
  {
   "cell_type": "code",
   "execution_count": 114,
   "metadata": {},
   "outputs": [
    {
     "data": {
      "text/plain": [
       "[[0], [1]]"
      ]
     },
     "execution_count": 114,
     "metadata": {},
     "output_type": "execute_result"
    }
   ],
   "source": [
    "mutate([[0], [1]])"
   ]
  }
 ],
 "metadata": {
  "kernelspec": {
   "display_name": "Python 3",
   "language": "python",
   "name": "python3"
  },
  "language_info": {
   "codemirror_mode": {
    "name": "ipython",
    "version": 3
   },
   "file_extension": ".py",
   "mimetype": "text/x-python",
   "name": "python",
   "nbconvert_exporter": "python",
   "pygments_lexer": "ipython3",
   "version": "3.7.1"
  }
 },
 "nbformat": 4,
 "nbformat_minor": 2
}
